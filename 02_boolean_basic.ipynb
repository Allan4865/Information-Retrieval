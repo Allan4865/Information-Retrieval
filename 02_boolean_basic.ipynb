{
 "cells": [
  {
   "cell_type": "markdown",
   "id": "3678b6ceab34c216",
   "metadata": {
    "collapsed": false,
    "jupyter": {
     "outputs_hidden": false
    }
   },
   "source": [
    "# Basic Boolean Search in Documents\n",
    "\n",
    "## Objective\n",
    "Expand the simple term search functionality to include Boolean search capabilities. This will allow users to perform more complex queries by combining multiple search terms using Boolean operators.\n",
    "\n",
    "## Problem Description\n",
    "You must enhance the existing search engine from the previous exercise to support Boolean operators: AND, OR, and NOT. This will enable the retrieval of documents based on the logical relationships between multiple terms.\n",
    "\n",
    "## Requirements"
   ]
  },
  {
   "cell_type": "markdown",
   "id": "fedec1fe-ad43-4a8d-adc5-820bb4b99052",
   "metadata": {},
   "source": [
    "### Step 1: Update Data Preparation\n",
    "Ensure that the documents are still loaded and preprocessed from the previous task. The data should be clean and ready for advanced querying."
   ]
  },
  {
   "cell_type": "code",
   "execution_count": 1,
   "id": "0ab75581-85fd-4d0c-ae0c-d7d04c41b9dd",
   "metadata": {},
   "outputs": [],
   "source": [
    "import os\n",
    "import re\n",
    "\n",
    "def doc_reader(carpeta):\n",
    "    documentos = []\n",
    "    nom_documentos = []\n",
    "    for filename in os.listdir(carpeta):\n",
    "        if filename.endswith(\".txt\"):\n",
    "            with open(os.path.join(carpeta, filename), 'r', encoding='utf-8') as file:\n",
    "                nom_documentos.append(filename)\n",
    "                documentos.append(file.read())\n",
    "    return documentos, nom_documentos"
   ]
  },
  {
   "cell_type": "markdown",
   "id": "f61774ff-e97d-49ef-86e2-3d9f0ed13eff",
   "metadata": {},
   "source": [
    "### Step 2: Create an Inverted Index\n",
    "\n",
    "Create an inverted index from the documents. This index maps each word to the set of document IDs in which that word appears. This facilitates word lookup in the search process."
   ]
  },
  {
   "cell_type": "code",
   "execution_count": 2,
   "id": "6bb37e28-4f75-4f2b-8c14-cf3422e8059d",
   "metadata": {},
   "outputs": [],
   "source": [
    "def indice_invertido(documentos):\n",
    "    indice = {}\n",
    "    for doc_id, doc_texto in enumerate(documentos):\n",
    "        palabras = re.findall(r\"\\b[\\w']+\\b\", doc_texto.lower()) \n",
    "        for palabra in palabras:\n",
    "            if palabra not in indice:\n",
    "                indice[palabra] = []\n",
    "            if doc_id not in indice[palabra]:  # Evitar duplicados\n",
    "                indice[palabra].append(doc_id)\n",
    "    return indice"
   ]
  },
  {
   "cell_type": "markdown",
   "id": "95650630-0898-4868-98b9-7db996441bf8",
   "metadata": {},
   "source": [
    "### Step 3: Query Processing\n",
    "- **Parse the Query**: Implement a function to parse the input query to identify the terms and operators.\n",
    "- **Search Documents**: Based on the parsed query, implement the logic to retrieve and rank the documents according to the Boolean expressions."
   ]
  },
  {
   "cell_type": "code",
   "execution_count": 3,
   "id": "87a100bc-53ea-49a1-af8f-a3b4dbde4846",
   "metadata": {},
   "outputs": [],
   "source": [
    "def word_search(palabra, indice_invertido, nombres_documentos):\n",
    "    palabra = palabra.lower()  # Convertir la palabra buscada a minúsculas\n",
    "    if palabra in indice_invertido:\n",
    "        documentos_coincidentes = indice_invertido[palabra]\n",
    "        documentos_encontrados = []  \n",
    "        print(f\"La palabra '{palabra}' aparece en los siguientes documentos:\")\n",
    "        for doc_id in documentos_coincidentes:\n",
    "            documentos_encontrados.append(nombres_documentos[doc_id])\n",
    "            print(f\" - {nombres_documentos[doc_id]}\")\n",
    "        print(f\"Number of documents found: {len(documentos_encontrados)}\")\n",
    "    else:\n",
    "        print(f\"La palabra '{palabra}' no se encuentra en ningún documento.\")"
   ]
  },
  {
   "cell_type": "markdown",
   "id": "cc051c97-0b9f-40ea-b7b5-6d1b97848cf9",
   "metadata": {},
   "source": [
    "### Step 4: Displaying Results\n",
    "- **Output the Results**: Display the documents that match the query criteria. Include functionalities to handle queries that result in no matching documents."
   ]
  },
  {
   "cell_type": "code",
   "execution_count": 4,
   "id": "56953243-b136-462e-b867-481891f8eee2",
   "metadata": {},
   "outputs": [
    {
     "name": "stdin",
     "output_type": "stream",
     "text": [
      "Ingrese la palabra que desea buscar:  police\n"
     ]
    },
    {
     "name": "stdout",
     "output_type": "stream",
     "text": [
      "La palabra 'police' aparece en los siguientes documentos:\n",
      " - pg10676.txt\n",
      " - pg10681.txt\n",
      " - pg1184.txt\n",
      " - pg1259.txt\n",
      " - pg1400.txt\n",
      " - pg145.txt\n",
      " - pg1661.txt\n",
      " - pg1727.txt\n",
      " - pg174.txt\n",
      " - pg19694.txt\n",
      " - pg19926.txt\n",
      " - pg2160.txt\n",
      " - pg244.txt\n",
      " - pg2554.txt\n",
      " - pg2581.txt\n",
      " - pg2600.txt\n",
      " - pg2641.txt\n",
      " - pg2701.txt\n",
      " - pg27827.txt\n",
      " - pg28054.txt\n",
      " - pg2814.txt\n",
      " - pg2852.txt\n",
      " - pg28556.txt\n",
      " - pg29870.txt\n",
      " - pg30254.txt\n",
      " - pg345.txt\n",
      " - pg37106.txt\n",
      " - pg3825.txt\n",
      " - pg39407.txt\n",
      " - pg40438.txt\n",
      " - pg408.txt\n",
      " - pg43.txt\n",
      " - pg4300.txt\n",
      " - pg4363.txt\n",
      " - pg514.txt\n",
      " - pg5197.txt\n",
      " - pg52862.txt\n",
      " - pg600.txt\n",
      " - pg64317.txt\n",
      " - pg6761.txt\n",
      " - pg67979.txt\n",
      " - pg73442.txt\n",
      " - pg76.txt\n",
      " - pg844.txt\n",
      " - pg98.txt\n",
      "Number of documents found: 45\n"
     ]
    }
   ],
   "source": [
    "doc_folder = \"data folder\"\n",
    "documentos, nombres_documentos = doc_reader(doc_folder)\n",
    "ind_invertido = indice_invertido(documentos)\n",
    "\n",
    "\n",
    "palabra_a_buscar = input(\"Ingrese la palabra que desea buscar: \")\n",
    "word_search(palabra_a_buscar, ind_invertido, nombres_documentos)"
   ]
  },
  {
   "cell_type": "markdown",
   "id": "790a8ca3-a977-449f-9aa5-d3370741cb41",
   "metadata": {},
   "source": [
    "## Evaluation Criteria\n",
    "- **Correctness**: The Boolean search implementation should correctly interpret and process the queries according to the Boolean logic.\n",
    "- **Efficiency**: Consider the efficiency of your search process, especially as the complexity of queries increases.\n",
    "- **User Experience**: Ensure that the interface for inputting queries and viewing results is user-friendly.\n",
    "\n",
    "This exercise will deepen your understanding of how search engines process and respond to user queries."
   ]
  }
 ],
 "metadata": {
  "kernelspec": {
   "display_name": "Python 3 (ipykernel)",
   "language": "python",
   "name": "python3"
  },
  "language_info": {
   "codemirror_mode": {
    "name": "ipython",
    "version": 3
   },
   "file_extension": ".py",
   "mimetype": "text/x-python",
   "name": "python",
   "nbconvert_exporter": "python",
   "pygments_lexer": "ipython3",
   "version": "3.8.10"
  }
 },
 "nbformat": 4,
 "nbformat_minor": 5
}
